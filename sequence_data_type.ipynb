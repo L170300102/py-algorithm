{
 "cells": [
  {
   "cell_type": "markdown",
   "id": "874ce014",
   "metadata": {},
   "source": [
    "### sequence type property\n",
    "\n",
    "membership, size, slicing, iterability\n",
    "\n",
    "- string, tuple, list, byte array, byte"
   ]
  },
  {
   "cell_type": "code",
   "execution_count": 2,
   "id": "dcf4dabe",
   "metadata": {},
   "outputs": [
    {
     "name": "stdout",
     "output_type": "stream",
     "text": [
      "<class 'list'> \n",
      "\n",
      "<class 'str'> \n",
      "\n",
      "<class 'tuple'> \n",
      "\n",
      "<class 'bytearray'> \n",
      "\n",
      "<class 'bytes'> \n",
      "\n"
     ]
    }
   ],
   "source": [
    "l=[]\n",
    "print(type(l), '\\n')\n",
    "s=\"\"\n",
    "print(type(s), '\\n')\n",
    "\n",
    "t = ()\n",
    "print(type(t),'\\n')\n",
    "\n",
    "ba=bytearray(b\"\")\n",
    "print(type(ba),'\\n')\n",
    "\n",
    "b=bytes([])\n",
    "print(type(b),'\\n')"
   ]
  },
  {
   "cell_type": "code",
   "execution_count": 6,
   "id": "170e56fa",
   "metadata": {},
   "outputs": [
    {
     "ename": "TypeError",
     "evalue": "'str' object does not support item assignment",
     "output_type": "error",
     "traceback": [
      "\u001b[0;31m---------------------------------------------------------------------------\u001b[0m",
      "\u001b[0;31mTypeError\u001b[0m                                 Traceback (most recent call last)",
      "\u001b[0;32m<ipython-input-6-e59606e28de8>\u001b[0m in \u001b[0;36m<module>\u001b[0;34m\u001b[0m\n\u001b[1;32m      1\u001b[0m \u001b[0;31m# immutable: tuple, string,byte\u001b[0m\u001b[0;34m\u001b[0m\u001b[0;34m\u001b[0m\u001b[0;34m\u001b[0m\u001b[0m\n\u001b[1;32m      2\u001b[0m \u001b[0ms\u001b[0m\u001b[0;34m=\u001b[0m\u001b[0;34m\"asdf\"\u001b[0m\u001b[0;34m\u001b[0m\u001b[0;34m\u001b[0m\u001b[0m\n\u001b[0;32m----> 3\u001b[0;31m \u001b[0ms\u001b[0m\u001b[0;34m[\u001b[0m\u001b[0;36m0\u001b[0m\u001b[0;34m]\u001b[0m\u001b[0;34m=\u001b[0m\u001b[0;34m'b'\u001b[0m\u001b[0;34m\u001b[0m\u001b[0;34m\u001b[0m\u001b[0m\n\u001b[0m",
      "\u001b[0;31mTypeError\u001b[0m: 'str' object does not support item assignment"
     ]
    }
   ],
   "source": [
    "# immutable: tuple, string,byte\n",
    "s=\"asdf\"\n",
    "s[0]='b'"
   ]
  },
  {
   "cell_type": "code",
   "execution_count": 9,
   "id": "57184580",
   "metadata": {},
   "outputs": [
    {
     "name": "stdout",
     "output_type": "stream",
     "text": [
      "[1, 2, 3, 4] \n",
      " [11, 2, 3, 4] \n",
      " [111, 2, 3, 4]\n"
     ]
    }
   ],
   "source": [
    "# list deep copy\n",
    "l1 = [1, 2, 3, 4]\n",
    "l2 = l1[:]\n",
    "l3 = list(l2)\n",
    "\n",
    "l2[0] = 11\n",
    "l3[0] = 111\n",
    "print(l1, '\\n', l2, '\\n', l3)"
   ]
  },
  {
   "cell_type": "code",
   "execution_count": 11,
   "id": "ec51b151",
   "metadata": {},
   "outputs": [
    {
     "name": "stdout",
     "output_type": "stream",
     "text": [
      "{'b', 'x', 'a'}\n",
      "{'b', 'a'}\n"
     ]
    }
   ],
   "source": [
    "# set deep copy \n",
    "s1 = {'b', 'a', 'x'}\n",
    "s2 = s1.copy()\n",
    "s2.discard('x')\n",
    "# s.remove('a')\n",
    "print(s1)\n",
    "print(s2)"
   ]
  },
  {
   "cell_type": "code",
   "execution_count": 12,
   "id": "d1679254",
   "metadata": {},
   "outputs": [],
   "source": [
    "# dict deep copy\n",
    "d1 = {'hello': 'world'}\n",
    "d2 = d1.copy()\n"
   ]
  },
  {
   "cell_type": "code",
   "execution_count": 16,
   "id": "c47f84f8",
   "metadata": {},
   "outputs": [],
   "source": [
    "# string deep copy\n",
    "import copy\n",
    "s1 = \"asdf\"\n",
    "s2 = copy.deepcopy(s1)"
   ]
  },
  {
   "cell_type": "markdown",
   "id": "2ef8005d",
   "metadata": {},
   "source": [
    "### string"
   ]
  },
  {
   "cell_type": "code",
   "execution_count": 23,
   "id": "0ec47e75",
   "metadata": {},
   "outputs": [
    {
     "name": "stdout",
     "output_type": "stream",
     "text": [
      "bf an as\n",
      "bf-^-an-^-as\n",
      "bfanas\n",
      "asanbf\n"
     ]
    }
   ],
   "source": [
    "# join\n",
    "s = ['bf', 'an', 'as']\n",
    "print(' '.join(s))\n",
    "print('-^-'.join(s))\n",
    "print(''.join(s))\n",
    "print(''.join(reversed(s)))"
   ]
  },
  {
   "cell_type": "code",
   "execution_count": 28,
   "id": "914cf070",
   "metadata": {},
   "outputs": [
    {
     "name": "stdout",
     "output_type": "stream",
     "text": [
      "peter===\n",
      "-----peter\n"
     ]
    }
   ],
   "source": [
    "name = 'peter'\n",
    "print(name.ljust(8,'='))\n",
    "print(name.rjust(10,'-'))"
   ]
  },
  {
   "cell_type": "code",
   "execution_count": 32,
   "id": "d98d69d0",
   "metadata": {},
   "outputs": [
    {
     "name": "stdout",
     "output_type": "stream",
     "text": [
      "hi peter!\n",
      "name: peter, age: 20\n",
      "name: amy, age: 12\n",
      "python data structure\n"
     ]
    }
   ],
   "source": [
    "# format 문자열에 변수추가나 형식화\n",
    "print(\"{0} {1}\".format(\"hi\", \"peter!\"))\n",
    "print(\"name: {who}, age: {age}\".format(who=\"peter\", age=20))\n",
    "print(\"name: {who}, age: {0}\".format(12, who='amy'))\n",
    "print(\"{} {} {}\".format(\"python\", \"data\", \"structure\"))"
   ]
  },
  {
   "cell_type": "code",
   "execution_count": 39,
   "id": "578b26e2",
   "metadata": {},
   "outputs": [
    {
     "data": {
      "text/plain": [
       "{'__name__': '__main__',\n",
       " '__doc__': 'Automatically created module for IPython interactive environment',\n",
       " '__package__': None,\n",
       " '__loader__': None,\n",
       " '__spec__': None,\n",
       " '__builtin__': <module 'builtins' (built-in)>,\n",
       " '__builtins__': <module 'builtins' (built-in)>,\n",
       " '_ih': ['',\n",
       "  'l=[]\\nprint(type(l), \\'\\\\n\\')\\ns=\"\"\\nprint(type(s), \\'\\\\n\\')\\n\\nt = ()\\nprint(type(t),\\'\\\\n\\')\\n\\nba=bytearray(b\"\")\\nprint(type(ba),\\'\\\\n\\')\\n\\nb=byte([])\\nprint(type(b),\\'\\\\n\\')',\n",
       "  'l=[]\\nprint(type(l), \\'\\\\n\\')\\ns=\"\"\\nprint(type(s), \\'\\\\n\\')\\n\\nt = ()\\nprint(type(t),\\'\\\\n\\')\\n\\nba=bytearray(b\"\")\\nprint(type(ba),\\'\\\\n\\')\\n\\nb=bytes([])\\nprint(type(b),\\'\\\\n\\')',\n",
       "  '# immutable: tuple, string,byte\\ns=\"asdf\"\\ns=\"aa\"\\nprint(s)',\n",
       "  '# immutable: tuple, string,byte\\ns=\"asdf\"\\ns=\"aa\"\\nprint(s)\\nt=(1,2)\\nt=(1,2,3)\\nprint(t)',\n",
       "  '# immutable: tuple, string,byte\\ns=\"asdf\"\\ns[0]=\\'b\\'\\nprint(s)',\n",
       "  '# immutable: tuple, string,byte\\ns=\"asdf\"\\ns[0]=\\'b\\'',\n",
       "  '# list deep copy\\nl1 = [1, 2, 3, 4]\\nl2 = l1[:]\\nl3 = list(l2)',\n",
       "  \"# list deep copy\\nl1 = [1, 2, 3, 4]\\nl2 = l1[:]\\nl3 = list(l2)\\n\\nl2[0] = 11\\nl3[0] = 111\\nprint(l1, '\\\\n'， l2, '\\\\n', l3)\",\n",
       "  \"# list deep copy\\nl1 = [1, 2, 3, 4]\\nl2 = l1[:]\\nl3 = list(l2)\\n\\nl2[0] = 11\\nl3[0] = 111\\nprint(l1, '\\\\n', l2, '\\\\n', l3)\",\n",
       "  \"# set deep copy \\ns1 = {'b', 'a', 'x'}\\ns2 = s1.copy()\\ns2.discard('x')\\ns.remove('a')\\nprint(s1)\\nprint(s2)\",\n",
       "  \"# set deep copy \\ns1 = {'b', 'a', 'x'}\\ns2 = s1.copy()\\ns2.discard('x')\\n# s.remove('a')\\nprint(s1)\\nprint(s2)\",\n",
       "  \"# dict deep copy\\nd1 = {'hello': 'world'}\\nd2 = d1.copy()\",\n",
       "  '# string deep copy\\ns1 = \"asdf\"\\ns2 = deepcopy(s1)',\n",
       "  '# string deep copy\\ns1 = \"asdf\"\\ns2 = s1.deepcopy',\n",
       "  '# string deep copy\\ns1 = \"asdf\"\\ns2 = s1.deepcopy()',\n",
       "  '# string deep copy\\nimport copy\\ns1 = \"asdf\"\\ns2 = copy.deepcopy(s1)',\n",
       "  \"# join\\ns = ['bf', 'an', 'as']\\n' '.join(s)\",\n",
       "  \"# join\\ns = ['bf', 'an', 'as']\\nprint()' '.join(s))\",\n",
       "  \"# join\\ns = ['bf', 'an', 'as']\\nprint(' '.join(s))\",\n",
       "  \"# join\\ns = ['bf', 'an', 'as']\\nprint(' '.join(s))\\nprint('-^-'.join(s))\",\n",
       "  \"# join\\ns = ['bf', 'an', 'as']\\nprint(' '.join(s))\\nprint('-^-'.join(s))\\nprint(''.join(s))\",\n",
       "  \"# join\\ns = ['bf', 'an', 'as']\\nprint(' '.join(s))\\nprint('-^-'.join(s))\\nprint(''.join(s))\\nprint(''.join(reverse(s)))\",\n",
       "  \"# join\\ns = ['bf', 'an', 'as']\\nprint(' '.join(s))\\nprint('-^-'.join(s))\\nprint(''.join(s))\\nprint(''.join(reversed(s)))\",\n",
       "  \"name = 'peter'\\nname.ljust(20,'=')\",\n",
       "  \"name = 'peter'\\nname.ljust(5,'=')\",\n",
       "  \"name = 'peter'\\nname.ljust(8,'=')\",\n",
       "  \"name = 'peter'\\nname.ljust(8,'=')\\nname.rjust(10,'-')\",\n",
       "  \"name = 'peter'\\nprint(name.ljust(8,'='))\\nprint(name.rjust(10,'-'))\",\n",
       "  'print(\"{0} {1}\".format(\"hi\", \"peter!\"))',\n",
       "  '# format 문자열에 변수추가나 형식화\\nprint(\"{0} {1}\".format(\"hi\", \"peter!\"))\\nprint(\"name: {who}, age: {age}\".format(who=\"peter\", age=20))\\nprint()',\n",
       "  '# format 문자열에 변수추가나 형식화\\nprint(\"{0} {1}\".format(\"hi\", \"peter!\"))\\nprint(\"name: {who}, age: {age}\".format(who=\"peter\", age=20))\\nprint(\"name: {who}, age: {0}\".format(12, who=\\'amy\\'))',\n",
       "  '# format 문자열에 변수추가나 형식화\\nprint(\"{0} {1}\".format(\"hi\", \"peter!\"))\\nprint(\"name: {who}, age: {age}\".format(who=\"peter\", age=20))\\nprint(\"name: {who}, age: {0}\".format(12, who=\\'amy\\'))\\nprint(\"{} {} {}\".format(\"python\", \"data\", \"structure\"))',\n",
       "  'print(**locals())',\n",
       "  'print(\"{}{}{}{}\".format(**locals()))',\n",
       "  'print(\"{}{}{}\".format(**locals()))',\n",
       "  'print(\"{}{}\".format(**locals()))',\n",
       "  'print(\"{}\".format(**locals()))',\n",
       "  'print(\"{who}\".format(**locals()))',\n",
       "  'locals()'],\n",
       " '_oh': {17: 'bf an as',\n",
       "  24: 'peter===============',\n",
       "  25: 'peter',\n",
       "  26: 'peter===',\n",
       "  27: '-----peter'},\n",
       " '_dh': ['/home/jhseo/pyalgo'],\n",
       " 'In': ['',\n",
       "  'l=[]\\nprint(type(l), \\'\\\\n\\')\\ns=\"\"\\nprint(type(s), \\'\\\\n\\')\\n\\nt = ()\\nprint(type(t),\\'\\\\n\\')\\n\\nba=bytearray(b\"\")\\nprint(type(ba),\\'\\\\n\\')\\n\\nb=byte([])\\nprint(type(b),\\'\\\\n\\')',\n",
       "  'l=[]\\nprint(type(l), \\'\\\\n\\')\\ns=\"\"\\nprint(type(s), \\'\\\\n\\')\\n\\nt = ()\\nprint(type(t),\\'\\\\n\\')\\n\\nba=bytearray(b\"\")\\nprint(type(ba),\\'\\\\n\\')\\n\\nb=bytes([])\\nprint(type(b),\\'\\\\n\\')',\n",
       "  '# immutable: tuple, string,byte\\ns=\"asdf\"\\ns=\"aa\"\\nprint(s)',\n",
       "  '# immutable: tuple, string,byte\\ns=\"asdf\"\\ns=\"aa\"\\nprint(s)\\nt=(1,2)\\nt=(1,2,3)\\nprint(t)',\n",
       "  '# immutable: tuple, string,byte\\ns=\"asdf\"\\ns[0]=\\'b\\'\\nprint(s)',\n",
       "  '# immutable: tuple, string,byte\\ns=\"asdf\"\\ns[0]=\\'b\\'',\n",
       "  '# list deep copy\\nl1 = [1, 2, 3, 4]\\nl2 = l1[:]\\nl3 = list(l2)',\n",
       "  \"# list deep copy\\nl1 = [1, 2, 3, 4]\\nl2 = l1[:]\\nl3 = list(l2)\\n\\nl2[0] = 11\\nl3[0] = 111\\nprint(l1, '\\\\n'， l2, '\\\\n', l3)\",\n",
       "  \"# list deep copy\\nl1 = [1, 2, 3, 4]\\nl2 = l1[:]\\nl3 = list(l2)\\n\\nl2[0] = 11\\nl3[0] = 111\\nprint(l1, '\\\\n', l2, '\\\\n', l3)\",\n",
       "  \"# set deep copy \\ns1 = {'b', 'a', 'x'}\\ns2 = s1.copy()\\ns2.discard('x')\\ns.remove('a')\\nprint(s1)\\nprint(s2)\",\n",
       "  \"# set deep copy \\ns1 = {'b', 'a', 'x'}\\ns2 = s1.copy()\\ns2.discard('x')\\n# s.remove('a')\\nprint(s1)\\nprint(s2)\",\n",
       "  \"# dict deep copy\\nd1 = {'hello': 'world'}\\nd2 = d1.copy()\",\n",
       "  '# string deep copy\\ns1 = \"asdf\"\\ns2 = deepcopy(s1)',\n",
       "  '# string deep copy\\ns1 = \"asdf\"\\ns2 = s1.deepcopy',\n",
       "  '# string deep copy\\ns1 = \"asdf\"\\ns2 = s1.deepcopy()',\n",
       "  '# string deep copy\\nimport copy\\ns1 = \"asdf\"\\ns2 = copy.deepcopy(s1)',\n",
       "  \"# join\\ns = ['bf', 'an', 'as']\\n' '.join(s)\",\n",
       "  \"# join\\ns = ['bf', 'an', 'as']\\nprint()' '.join(s))\",\n",
       "  \"# join\\ns = ['bf', 'an', 'as']\\nprint(' '.join(s))\",\n",
       "  \"# join\\ns = ['bf', 'an', 'as']\\nprint(' '.join(s))\\nprint('-^-'.join(s))\",\n",
       "  \"# join\\ns = ['bf', 'an', 'as']\\nprint(' '.join(s))\\nprint('-^-'.join(s))\\nprint(''.join(s))\",\n",
       "  \"# join\\ns = ['bf', 'an', 'as']\\nprint(' '.join(s))\\nprint('-^-'.join(s))\\nprint(''.join(s))\\nprint(''.join(reverse(s)))\",\n",
       "  \"# join\\ns = ['bf', 'an', 'as']\\nprint(' '.join(s))\\nprint('-^-'.join(s))\\nprint(''.join(s))\\nprint(''.join(reversed(s)))\",\n",
       "  \"name = 'peter'\\nname.ljust(20,'=')\",\n",
       "  \"name = 'peter'\\nname.ljust(5,'=')\",\n",
       "  \"name = 'peter'\\nname.ljust(8,'=')\",\n",
       "  \"name = 'peter'\\nname.ljust(8,'=')\\nname.rjust(10,'-')\",\n",
       "  \"name = 'peter'\\nprint(name.ljust(8,'='))\\nprint(name.rjust(10,'-'))\",\n",
       "  'print(\"{0} {1}\".format(\"hi\", \"peter!\"))',\n",
       "  '# format 문자열에 변수추가나 형식화\\nprint(\"{0} {1}\".format(\"hi\", \"peter!\"))\\nprint(\"name: {who}, age: {age}\".format(who=\"peter\", age=20))\\nprint()',\n",
       "  '# format 문자열에 변수추가나 형식화\\nprint(\"{0} {1}\".format(\"hi\", \"peter!\"))\\nprint(\"name: {who}, age: {age}\".format(who=\"peter\", age=20))\\nprint(\"name: {who}, age: {0}\".format(12, who=\\'amy\\'))',\n",
       "  '# format 문자열에 변수추가나 형식화\\nprint(\"{0} {1}\".format(\"hi\", \"peter!\"))\\nprint(\"name: {who}, age: {age}\".format(who=\"peter\", age=20))\\nprint(\"name: {who}, age: {0}\".format(12, who=\\'amy\\'))\\nprint(\"{} {} {}\".format(\"python\", \"data\", \"structure\"))',\n",
       "  'print(**locals())',\n",
       "  'print(\"{}{}{}{}\".format(**locals()))',\n",
       "  'print(\"{}{}{}\".format(**locals()))',\n",
       "  'print(\"{}{}\".format(**locals()))',\n",
       "  'print(\"{}\".format(**locals()))',\n",
       "  'print(\"{who}\".format(**locals()))',\n",
       "  'locals()'],\n",
       " 'Out': {17: 'bf an as',\n",
       "  24: 'peter===============',\n",
       "  25: 'peter',\n",
       "  26: 'peter===',\n",
       "  27: '-----peter'},\n",
       " 'get_ipython': <bound method InteractiveShell.get_ipython of <ipykernel.zmqshell.ZMQInteractiveShell object at 0x7f5e9cdac320>>,\n",
       " 'exit': <IPython.core.autocall.ZMQExitAutocall at 0x7f5e99d7d0f0>,\n",
       " 'quit': <IPython.core.autocall.ZMQExitAutocall at 0x7f5e99d7d0f0>,\n",
       " '_': '-----peter',\n",
       " '__': 'peter===',\n",
       " '___': 'peter',\n",
       " '_i': 'print(\"{who}\".format(**locals()))',\n",
       " '_ii': 'print(\"{}\".format(**locals()))',\n",
       " '_iii': 'print(\"{}{}\".format(**locals()))',\n",
       " '_i1': 'l=[]\\nprint(type(l), \\'\\\\n\\')\\ns=\"\"\\nprint(type(s), \\'\\\\n\\')\\n\\nt = ()\\nprint(type(t),\\'\\\\n\\')\\n\\nba=bytearray(b\"\")\\nprint(type(ba),\\'\\\\n\\')\\n\\nb=byte([])\\nprint(type(b),\\'\\\\n\\')',\n",
       " 'l': [],\n",
       " 's': ['bf', 'an', 'as'],\n",
       " 't': (1, 2, 3),\n",
       " 'ba': bytearray(b''),\n",
       " '_i2': 'l=[]\\nprint(type(l), \\'\\\\n\\')\\ns=\"\"\\nprint(type(s), \\'\\\\n\\')\\n\\nt = ()\\nprint(type(t),\\'\\\\n\\')\\n\\nba=bytearray(b\"\")\\nprint(type(ba),\\'\\\\n\\')\\n\\nb=bytes([])\\nprint(type(b),\\'\\\\n\\')',\n",
       " 'b': b'',\n",
       " '_i3': '# immutable: tuple, string,byte\\ns=\"asdf\"\\ns=\"aa\"\\nprint(s)',\n",
       " '_i4': '# immutable: tuple, string,byte\\ns=\"asdf\"\\ns=\"aa\"\\nprint(s)\\nt=(1,2)\\nt=(1,2,3)\\nprint(t)',\n",
       " '_i5': '# immutable: tuple, string,byte\\ns=\"asdf\"\\ns[0]=\\'b\\'\\nprint(s)',\n",
       " '_i6': '# immutable: tuple, string,byte\\ns=\"asdf\"\\ns[0]=\\'b\\'',\n",
       " '_i7': '# list deep copy\\nl1 = [1, 2, 3, 4]\\nl2 = l1[:]\\nl3 = list(l2)',\n",
       " 'l1': [1, 2, 3, 4],\n",
       " 'l2': [11, 2, 3, 4],\n",
       " 'l3': [111, 2, 3, 4],\n",
       " '_i8': \"# list deep copy\\nl1 = [1, 2, 3, 4]\\nl2 = l1[:]\\nl3 = list(l2)\\n\\nl2[0] = 11\\nl3[0] = 111\\nprint(l1, '\\\\n'， l2, '\\\\n', l3)\",\n",
       " '_i9': \"# list deep copy\\nl1 = [1, 2, 3, 4]\\nl2 = l1[:]\\nl3 = list(l2)\\n\\nl2[0] = 11\\nl3[0] = 111\\nprint(l1, '\\\\n', l2, '\\\\n', l3)\",\n",
       " '_i10': \"# set deep copy \\ns1 = {'b', 'a', 'x'}\\ns2 = s1.copy()\\ns2.discard('x')\\ns.remove('a')\\nprint(s1)\\nprint(s2)\",\n",
       " 's1': 'asdf',\n",
       " 's2': 'asdf',\n",
       " '_i11': \"# set deep copy \\ns1 = {'b', 'a', 'x'}\\ns2 = s1.copy()\\ns2.discard('x')\\n# s.remove('a')\\nprint(s1)\\nprint(s2)\",\n",
       " '_i12': \"# dict deep copy\\nd1 = {'hello': 'world'}\\nd2 = d1.copy()\",\n",
       " 'd1': {'hello': 'world'},\n",
       " 'd2': {'hello': 'world'},\n",
       " '_i13': '# string deep copy\\ns1 = \"asdf\"\\ns2 = deepcopy(s1)',\n",
       " '_i14': '# string deep copy\\ns1 = \"asdf\"\\ns2 = s1.deepcopy',\n",
       " '_i15': '# string deep copy\\ns1 = \"asdf\"\\ns2 = s1.deepcopy()',\n",
       " '_i16': '# string deep copy\\nimport copy\\ns1 = \"asdf\"\\ns2 = copy.deepcopy(s1)',\n",
       " 'copy': <module 'copy' from '/home/jhseo/anaconda3/envs/pyalgo/lib/python3.7/copy.py'>,\n",
       " '_i17': \"# join\\ns = ['bf', 'an', 'as']\\n' '.join(s)\",\n",
       " '_17': 'bf an as',\n",
       " '_i18': \"# join\\ns = ['bf', 'an', 'as']\\nprint()' '.join(s))\",\n",
       " '_i19': \"# join\\ns = ['bf', 'an', 'as']\\nprint(' '.join(s))\",\n",
       " '_i20': \"# join\\ns = ['bf', 'an', 'as']\\nprint(' '.join(s))\\nprint('-^-'.join(s))\",\n",
       " '_i21': \"# join\\ns = ['bf', 'an', 'as']\\nprint(' '.join(s))\\nprint('-^-'.join(s))\\nprint(''.join(s))\",\n",
       " '_i22': \"# join\\ns = ['bf', 'an', 'as']\\nprint(' '.join(s))\\nprint('-^-'.join(s))\\nprint(''.join(s))\\nprint(''.join(reverse(s)))\",\n",
       " '_i23': \"# join\\ns = ['bf', 'an', 'as']\\nprint(' '.join(s))\\nprint('-^-'.join(s))\\nprint(''.join(s))\\nprint(''.join(reversed(s)))\",\n",
       " '_i24': \"name = 'peter'\\nname.ljust(20,'=')\",\n",
       " 'name': 'peter',\n",
       " '_24': 'peter===============',\n",
       " '_i25': \"name = 'peter'\\nname.ljust(5,'=')\",\n",
       " '_25': 'peter',\n",
       " '_i26': \"name = 'peter'\\nname.ljust(8,'=')\",\n",
       " '_26': 'peter===',\n",
       " '_i27': \"name = 'peter'\\nname.ljust(8,'=')\\nname.rjust(10,'-')\",\n",
       " '_27': '-----peter',\n",
       " '_i28': \"name = 'peter'\\nprint(name.ljust(8,'='))\\nprint(name.rjust(10,'-'))\",\n",
       " '_i29': 'print(\"{0} {1}\".format(\"hi\", \"peter!\"))',\n",
       " '_i30': '# format 문자열에 변수추가나 형식화\\nprint(\"{0} {1}\".format(\"hi\", \"peter!\"))\\nprint(\"name: {who}, age: {age}\".format(who=\"peter\", age=20))\\nprint()',\n",
       " '_i31': '# format 문자열에 변수추가나 형식화\\nprint(\"{0} {1}\".format(\"hi\", \"peter!\"))\\nprint(\"name: {who}, age: {age}\".format(who=\"peter\", age=20))\\nprint(\"name: {who}, age: {0}\".format(12, who=\\'amy\\'))',\n",
       " '_i32': '# format 문자열에 변수추가나 형식화\\nprint(\"{0} {1}\".format(\"hi\", \"peter!\"))\\nprint(\"name: {who}, age: {age}\".format(who=\"peter\", age=20))\\nprint(\"name: {who}, age: {0}\".format(12, who=\\'amy\\'))\\nprint(\"{} {} {}\".format(\"python\", \"data\", \"structure\"))',\n",
       " '_i33': 'print(**locals())',\n",
       " '_i34': 'print(\"{}{}{}{}\".format(**locals()))',\n",
       " '_i35': 'print(\"{}{}{}\".format(**locals()))',\n",
       " '_i36': 'print(\"{}{}\".format(**locals()))',\n",
       " '_i37': 'print(\"{}\".format(**locals()))',\n",
       " '_i38': 'print(\"{who}\".format(**locals()))',\n",
       " '_i39': 'locals()'}"
      ]
     },
     "execution_count": 39,
     "metadata": {},
     "output_type": "execute_result"
    }
   ],
   "source": [
    "locals()"
   ]
  },
  {
   "cell_type": "code",
   "execution_count": null,
   "id": "abc4b132",
   "metadata": {},
   "outputs": [],
   "source": []
  }
 ],
 "metadata": {
  "kernelspec": {
   "display_name": "Python 3",
   "language": "python",
   "name": "python3"
  },
  "language_info": {
   "codemirror_mode": {
    "name": "ipython",
    "version": 3
   },
   "file_extension": ".py",
   "mimetype": "text/x-python",
   "name": "python",
   "nbconvert_exporter": "python",
   "pygments_lexer": "ipython3",
   "version": "3.7.1"
  }
 },
 "nbformat": 4,
 "nbformat_minor": 5
}
