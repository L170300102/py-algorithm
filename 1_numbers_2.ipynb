{
 "cells": [
  {
   "cell_type": "markdown",
   "id": "66421228",
   "metadata": {},
   "source": [
    "## complex number \n",
    "\n",
    "복소수. for that import cmath module.이 모듈은 math module의 삼각함수와 로그함수의 복소수버전을 제공. 복소수 전용함수도 포함한다"
   ]
  },
  {
   "cell_type": "markdown",
   "id": "a5a171bb",
   "metadata": {},
   "source": [
    "## fraction module\n",
    "\n",
    "분수 사용하는 모듈"
   ]
  },
  {
   "cell_type": "code",
   "execution_count": 3,
   "id": "8d053bb4",
   "metadata": {},
   "outputs": [
    {
     "name": "stdout",
     "output_type": "stream",
     "text": [
      "Correct answer!\n"
     ]
    }
   ],
   "source": [
    "from fractions import Fraction\n",
    "\n",
    "def rounding_floats(number1, places):\n",
    "    return round(number1, places)\n",
    "\n",
    "def float_to_fractions(number):\n",
    "    return Fraction(*number.as_integer_ratio())\n",
    "\n",
    "def get_denominator(number1, number2):\n",
    "    \"\"\" 분모를 반환한다.\"\"\"\n",
    "    a = Fraction(number1, number2)\n",
    "    return a.denominator\n",
    "\n",
    "def get_numerator(number1, number2):\n",
    "    \"\"\" 분모를 반환한다.\"\"\"\n",
    "    a = Fraction(number1, number2)\n",
    "    return a.numerator\n",
    "\n",
    "def test_testing_floats():\n",
    "    number1 = 1.25\n",
    "    number2 = 1\n",
    "    number3 = -1\n",
    "    number4 = 5/4\n",
    "    number6 = 6\n",
    "    assert(rounding_floats(number1, number2) == 1.2)\n",
    "    assert(rounding_floats(number1*10, number3) == 10)\n",
    "    assert(float_to_fractions(number1) == number4) # divmod랑 뭐가다른지?\n",
    "    assert(get_denominator(number2, number6) == number6)\n",
    "    assert(get_numerator(number2, number6) == number2)\n",
    "    print(\"Correct answer!\")\n",
    "    \n",
    "if __name__ == \"__main__\":\n",
    "    test_testing_floats()"
   ]
  },
  {
   "cell_type": "markdown",
   "id": "d00a2c70",
   "metadata": {},
   "source": [
    "## decimal module\n",
    "\n",
    "정확한 10진법 float 숫자 사용할때 import하는 immutable 타입 메서드 decimal.Decimal() 이는 정수나 문자열을 인수로 취한다. \n",
    "\n",
    "- float 반올림, 비교, 뺄셈등 문제 효율적 처리"
   ]
  },
  {
   "cell_type": "code",
   "execution_count": 12,
   "id": "43a1d5da",
   "metadata": {},
   "outputs": [
    {
     "name": "stdout",
     "output_type": "stream",
     "text": [
      "0.9999999999999999\n",
      "False\n",
      "\n",
      "\n",
      "import decimal.Decimal\n",
      "1.0\n",
      "True\n",
      "\n",
      "\n",
      "False\n",
      "True\n",
      "\n",
      "\n",
      "1.0\n",
      "1.000000000000000055511151231\n",
      "\n",
      "\n",
      "1.0\n",
      "1\n",
      "\n",
      "\n"
     ]
    }
   ],
   "source": [
    "print(sum(0.1 for i in range(10)))\n",
    "print(sum(0.1 for i in range(10)) == 1.0)\n",
    "print('\\n')\n",
    "\n",
    "print(\"import decimal.Decimal\")\n",
    "from decimal import Decimal\n",
    "\n",
    "print(sum(Decimal('0.1') for i in range(10)))\n",
    "print(sum(Decimal('0.1') for i in range(10)) == Decimal('1.0'))\n",
    "print('\\n')\n",
    "\n",
    "print(sum(Decimal(0.1) for i in range(10)) == Decimal('1.0'))\n",
    "print(sum(Decimal('0.1') for i in range(10)) == Decimal(1.0))\n",
    "print('\\n')\n",
    "\n",
    "print(sum(Decimal('0.1') for i in range(10)))\n",
    "print(sum(Decimal(0.1) for i in range(10))) # 이건 정확하지 않음, 인수가 정수도 아니고 문자열도 아니기 때문에\n",
    "print('\\n')\n",
    "\n",
    "print(Decimal('1.0'))\n",
    "print(Decimal(1.0))\n",
    "print('\\n')"
   ]
  },
  {
   "cell_type": "markdown",
   "id": "7305713f",
   "metadata": {},
   "source": [
    "## binary, octal, hexadecimal\n",
    "\n",
    "bin(i)"
   ]
  },
  {
   "cell_type": "code",
   "execution_count": 18,
   "id": "967307e4",
   "metadata": {},
   "outputs": [
    {
     "name": "stdout",
     "output_type": "stream",
     "text": [
      "0b1111100111 \n",
      " <class 'str'>\n",
      "0o1747 \n",
      " <class 'str'>\n",
      "0x3e7 \n",
      " <class 'str'>\n"
     ]
    }
   ],
   "source": [
    "bin_1 = bin(999)\n",
    "print(bin_1, '\\n', type(bin_1))\n",
    "\n",
    "oct_1 = oct(999)\n",
    "print(oct_1, '\\n', type(oct_1))\n",
    "\n",
    "hex_1 = hex(999)\n",
    "print(hex_1, '\\n', type(hex_1))"
   ]
  },
  {
   "cell_type": "markdown",
   "id": "270947fa",
   "metadata": {},
   "source": [
    "### 진법 변환 함수 만들기\n",
    "\n",
    "다른 진법 숫자를 10진수로 $2 \\leq base\\leq 10$\n"
   ]
  },
  {
   "cell_type": "code",
   "execution_count": null,
   "id": "eb4a5770",
   "metadata": {},
   "outputs": [],
   "source": [
    "# 10: 2\n",
    "# 0: 0, 1: 1, 2: 10, 3: 11, 4: 100, 5: 101, ...\n",
    "# 11/2 = 5, 1. 1. 5/2 = 2, 1. 1. 2/2 = 1, 0. 0 \n",
    "# 100/2=50,0. 0. 50/2=25,0. 0. 25/2=12,1. 1. 12/2=6,0. 0. 6/2=3,0. 0. 3/2=1,1. 1. 1/2=0,1. 1. \n",
    "# 100: 1*2^2 + 0*2^1 + 0*2^0\n",
    "def bin_to_dec(bin_num):\n",
    "    bin_num % 10 # "
   ]
  },
  {
   "cell_type": "code",
   "execution_count": 29,
   "id": "9863e7b6",
   "metadata": {},
   "outputs": [
    {
     "data": {
      "text/plain": [
       "12"
      ]
     },
     "execution_count": 29,
     "metadata": {},
     "output_type": "execute_result"
    }
   ],
   "source": [
    "120//10"
   ]
  },
  {
   "cell_type": "code",
   "execution_count": 55,
   "id": "12f5efc0",
   "metadata": {},
   "outputs": [],
   "source": [
    "from math import sqrt\n",
    "def convert_to_decimal(number, base):\n",
    "    multiplier, result = 1, 0\n",
    "    print(f\"number :{number}, base: {base}\\n\")\n",
    "    while number > 0:\n",
    "#         print(f\"{number} % 10 = {number%10}\")\n",
    "        result += number % 10 * multiplier\n",
    "        print(\"result: \",result,'\\n')\n",
    "        \n",
    "        multiplier *= base\n",
    "        print(\"multiplier :\", multiplier)\n",
    "        \n",
    "        number = number // 10\n",
    "        print(\"number :\", number)\n",
    "        print('\\n')\n",
    "        \n",
    "    return result"
   ]
  },
  {
   "cell_type": "code",
   "execution_count": 56,
   "id": "be94c745",
   "metadata": {},
   "outputs": [
    {
     "name": "stdout",
     "output_type": "stream",
     "text": [
      "number :1111100111, base: 2\n",
      "\n",
      "result:  1 \n",
      "\n",
      "multiplier : 2\n",
      "number : 111110011\n",
      "\n",
      "\n",
      "result:  3 \n",
      "\n",
      "multiplier : 4\n",
      "number : 11111001\n",
      "\n",
      "\n",
      "result:  7 \n",
      "\n",
      "multiplier : 8\n",
      "number : 1111100\n",
      "\n",
      "\n",
      "result:  7 \n",
      "\n",
      "multiplier : 16\n",
      "number : 111110\n",
      "\n",
      "\n",
      "result:  7 \n",
      "\n",
      "multiplier : 32\n",
      "number : 11111\n",
      "\n",
      "\n",
      "result:  39 \n",
      "\n",
      "multiplier : 64\n",
      "number : 1111\n",
      "\n",
      "\n",
      "result:  103 \n",
      "\n",
      "multiplier : 128\n",
      "number : 111\n",
      "\n",
      "\n",
      "result:  231 \n",
      "\n",
      "multiplier : 256\n",
      "number : 11\n",
      "\n",
      "\n",
      "result:  487 \n",
      "\n",
      "multiplier : 512\n",
      "number : 1\n",
      "\n",
      "\n",
      "result:  999 \n",
      "\n",
      "multiplier : 1024\n",
      "number : 0\n",
      "\n",
      "\n"
     ]
    },
    {
     "data": {
      "text/plain": [
       "999"
      ]
     },
     "execution_count": 56,
     "metadata": {},
     "output_type": "execute_result"
    }
   ],
   "source": [
    "convert_to_decimal(1111100111 , 2)"
   ]
  },
  {
   "cell_type": "code",
   "execution_count": null,
   "id": "c756444a",
   "metadata": {},
   "outputs": [],
   "source": []
  }
 ],
 "metadata": {
  "kernelspec": {
   "display_name": "Python 3",
   "language": "python",
   "name": "python3"
  },
  "language_info": {
   "codemirror_mode": {
    "name": "ipython",
    "version": 3
   },
   "file_extension": ".py",
   "mimetype": "text/x-python",
   "name": "python",
   "nbconvert_exporter": "python",
   "pygments_lexer": "ipython3",
   "version": "3.7.1"
  }
 },
 "nbformat": 4,
 "nbformat_minor": 5
}
