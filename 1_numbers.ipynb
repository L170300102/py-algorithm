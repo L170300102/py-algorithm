{
 "cells": [
  {
   "cell_type": "code",
   "execution_count": 6,
   "id": "7e8bc21f",
   "metadata": {},
   "outputs": [
    {
     "name": "stdout",
     "output_type": "stream",
     "text": [
      "2\n"
     ]
    }
   ],
   "source": [
    "a=3\n",
    "print(a.bit_length())"
   ]
  },
  {
   "cell_type": "code",
   "execution_count": 34,
   "id": "0973a2ba",
   "metadata": {},
   "outputs": [
    {
     "name": "stdout",
     "output_type": "stream",
     "text": [
      "False\n"
     ]
    },
    {
     "data": {
      "text/plain": [
       "True"
      ]
     },
     "execution_count": 34,
     "metadata": {},
     "output_type": "execute_result"
    }
   ],
   "source": [
    "print(0.2 * 3 == 0.6)\n",
    "\n",
    "def a(x, y, places=7):\n",
    "    return round(abs(x-y), places) == 0\n",
    "\n",
    "a(0.2*3, 0.6)"
   ]
  },
  {
   "cell_type": "code",
   "execution_count": 35,
   "id": "a43fb766",
   "metadata": {},
   "outputs": [
    {
     "data": {
      "text/plain": [
       "(7, 3)"
      ]
     },
     "execution_count": 35,
     "metadata": {},
     "output_type": "execute_result"
    }
   ],
   "source": [
    "# 몫과 나머지 반환\n",
    "divmod(45, 6)"
   ]
  },
  {
   "cell_type": "code",
   "execution_count": 37,
   "id": "bbc19c01",
   "metadata": {},
   "outputs": [
    {
     "name": "stdout",
     "output_type": "stream",
     "text": [
      "110.0\n",
      "113.87\n",
      "114\n"
     ]
    }
   ],
   "source": [
    "# n 음수일때 x 정수 n번째 자리에서 반올림, 양수일때 x 소수점 이하 n번째 자리 반올림\n",
    "print(round(113.866, -1))\n",
    "\n",
    "print(round(113.866, 2))\n",
    "\n",
    "print(round(113.866))"
   ]
  },
  {
   "cell_type": "code",
   "execution_count": 38,
   "id": "8aff9f10",
   "metadata": {},
   "outputs": [
    {
     "name": "stdout",
     "output_type": "stream",
     "text": [
      "(11, 4)\n"
     ]
    }
   ],
   "source": [
    "a = 2.75\n",
    "print(a.as_integer_ratio()) # 11 / 4"
   ]
  },
  {
   "cell_type": "code",
   "execution_count": 39,
   "id": "5d347593",
   "metadata": {},
   "outputs": [
    {
     "data": {
      "text/plain": [
       "2.75"
      ]
     },
     "execution_count": 39,
     "metadata": {},
     "output_type": "execute_result"
    }
   ],
   "source": []
  },
  {
   "cell_type": "code",
   "execution_count": null,
   "id": "0d202856",
   "metadata": {},
   "outputs": [],
   "source": []
  }
 ],
 "metadata": {
  "kernelspec": {
   "display_name": "Python 3",
   "language": "python",
   "name": "python3"
  },
  "language_info": {
   "codemirror_mode": {
    "name": "ipython",
    "version": 3
   },
   "file_extension": ".py",
   "mimetype": "text/x-python",
   "name": "python",
   "nbconvert_exporter": "python",
   "pygments_lexer": "ipython3",
   "version": "3.7.1"
  }
 },
 "nbformat": 4,
 "nbformat_minor": 5
}
