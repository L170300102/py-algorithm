{
 "cells": [
  {
   "cell_type": "markdown",
   "id": "66421228",
   "metadata": {},
   "source": [
    "## complex number \n",
    "\n",
    "복소수. for that import cmath module.이 모듈은 math module의 삼각함수와 로그함수의 복소수버전을 제공. 복소수 전용함수도 포함한다"
   ]
  },
  {
   "cell_type": "markdown",
   "id": "a5a171bb",
   "metadata": {},
   "source": [
    "## fraction module\n",
    "\n",
    "분수 사용하는 모듈"
   ]
  },
  {
   "cell_type": "code",
   "execution_count": 3,
   "id": "8d053bb4",
   "metadata": {},
   "outputs": [
    {
     "name": "stdout",
     "output_type": "stream",
     "text": [
      "Correct answer!\n"
     ]
    }
   ],
   "source": [
    "from fractions import Fraction\n",
    "\n",
    "def rounding_floats(number1, places):\n",
    "    return round(number1, places)\n",
    "\n",
    "def float_to_fractions(number):\n",
    "    return Fraction(*number.as_integer_ratio())\n",
    "\n",
    "def get_denominator(number1, number2):\n",
    "    \"\"\" 분모를 반환한다.\"\"\"\n",
    "    a = Fraction(number1, number2)\n",
    "    return a.denominator\n",
    "\n",
    "def get_numerator(number1, number2):\n",
    "    \"\"\" 분모를 반환한다.\"\"\"\n",
    "    a = Fraction(number1, number2)\n",
    "    return a.numerator\n",
    "\n",
    "def test_testing_floats():\n",
    "    number1 = 1.25\n",
    "    number2 = 1\n",
    "    number3 = -1\n",
    "    number4 = 5/4\n",
    "    number6 = 6\n",
    "    assert(rounding_floats(number1, number2) == 1.2)\n",
    "    assert(rounding_floats(number1*10, number3) == 10)\n",
    "    assert(float_to_fractions(number1) == number4) # divmod랑 뭐가다른지?\n",
    "    assert(get_denominator(number2, number6) == number6)\n",
    "    assert(get_numerator(number2, number6) == number2)\n",
    "    print(\"Correct answer!\")\n",
    "    \n",
    "if __name__ == \"__main__\":\n",
    "    test_testing_floats()"
   ]
  },
  {
   "cell_type": "markdown",
   "id": "d00a2c70",
   "metadata": {},
   "source": [
    "## decimal module\n",
    "\n",
    "정확한 10진법 float 숫자 사용할때 import하는 immutable 타입 메서드 decimal.Decimal() 이는 정수나 문자열을 인수로 취한다. \n",
    "\n",
    "- float 반올림, 비교, 뺄셈등 문제 효율적 처리"
   ]
  },
  {
   "cell_type": "code",
   "execution_count": 12,
   "id": "43a1d5da",
   "metadata": {},
   "outputs": [
    {
     "name": "stdout",
     "output_type": "stream",
     "text": [
      "0.9999999999999999\n",
      "False\n",
      "\n",
      "\n",
      "import decimal.Decimal\n",
      "1.0\n",
      "True\n",
      "\n",
      "\n",
      "False\n",
      "True\n",
      "\n",
      "\n",
      "1.0\n",
      "1.000000000000000055511151231\n",
      "\n",
      "\n",
      "1.0\n",
      "1\n",
      "\n",
      "\n"
     ]
    }
   ],
   "source": [
    "print(sum(0.1 for i in range(10)))\n",
    "print(sum(0.1 for i in range(10)) == 1.0)\n",
    "print('\\n')\n",
    "\n",
    "print(\"import decimal.Decimal\")\n",
    "from decimal import Decimal\n",
    "\n",
    "print(sum(Decimal('0.1') for i in range(10)))\n",
    "print(sum(Decimal('0.1') for i in range(10)) == Decimal('1.0'))\n",
    "print('\\n')\n",
    "\n",
    "print(sum(Decimal(0.1) for i in range(10)) == Decimal('1.0'))\n",
    "print(sum(Decimal('0.1') for i in range(10)) == Decimal(1.0))\n",
    "print('\\n')\n",
    "\n",
    "print(sum(Decimal('0.1') for i in range(10)))\n",
    "print(sum(Decimal(0.1) for i in range(10))) # 이건 정확하지 않음, 인수가 정수도 아니고 문자열도 아니기 때문에\n",
    "print('\\n')\n",
    "\n",
    "print(Decimal('1.0'))\n",
    "print(Decimal(1.0))\n",
    "print('\\n')"
   ]
  },
  {
   "cell_type": "markdown",
   "id": "7305713f",
   "metadata": {},
   "source": [
    "## binary, octal, hexadecimal\n",
    "\n",
    "bin(i)"
   ]
  },
  {
   "cell_type": "code",
   "execution_count": 18,
   "id": "967307e4",
   "metadata": {},
   "outputs": [
    {
     "name": "stdout",
     "output_type": "stream",
     "text": [
      "0b1111100111 \n",
      " <class 'str'>\n",
      "0o1747 \n",
      " <class 'str'>\n",
      "0x3e7 \n",
      " <class 'str'>\n"
     ]
    }
   ],
   "source": [
    "bin_1 = bin(999)\n",
    "print(bin_1, '\\n', type(bin_1))\n",
    "\n",
    "oct_1 = oct(999)\n",
    "print(oct_1, '\\n', type(oct_1))\n",
    "\n",
    "hex_1 = hex(999)\n",
    "print(hex_1, '\\n', type(hex_1))"
   ]
  },
  {
   "cell_type": "markdown",
   "id": "270947fa",
   "metadata": {},
   "source": [
    "### 진법 변환 함수 만들기\n",
    "\n",
    "다른 진법 숫자를 10진수로 $2 \\leq base\\leq 10$\n"
   ]
  },
  {
   "cell_type": "code",
   "execution_count": null,
   "id": "eb4a5770",
   "metadata": {},
   "outputs": [],
   "source": [
    "# 10: 2\n",
    "# 0: 0, 1: 1, 2: 10, 3: 11, 4: 100, 5: 101, ...\n",
    "# 11/2 = 5, 1. 1. 5/2 = 2, 1. 1. 2/2 = 1, 0. 0 \n",
    "# 100/2=50,0. 0. 50/2=25,0. 0. 25/2=12,1. 1. 12/2=6,0. 0. 6/2=3,0. 0. 3/2=1,1. 1. 1/2=0,1. 1. \n",
    "# 100: 1*2^2 + 0*2^1 + 0*2^0\n",
    "def bin_to_dec(bin_num):\n",
    "    bin_num % 10 # "
   ]
  },
  {
   "cell_type": "code",
   "execution_count": 29,
   "id": "9863e7b6",
   "metadata": {},
   "outputs": [
    {
     "data": {
      "text/plain": [
       "12"
      ]
     },
     "execution_count": 29,
     "metadata": {},
     "output_type": "execute_result"
    }
   ],
   "source": [
    "120//10"
   ]
  },
  {
   "cell_type": "code",
   "execution_count": 55,
   "id": "12f5efc0",
   "metadata": {},
   "outputs": [],
   "source": [
    "from math import sqrt\n",
    "def convert_to_decimal(number, base):\n",
    "    multiplier, result = 1, 0\n",
    "#     print(f\"number :{number}, base: {base}\\n\")\n",
    "    while number > 0:\n",
    "#         print(f\"{number} % 10 = {number%10}\")\n",
    "        result += number % 10 * multiplier\n",
    "#         print(\"result: \",result,'\\n')\n",
    "        \n",
    "        multiplier *= base\n",
    "#         print(\"multiplier :\", multiplier)\n",
    "        \n",
    "        number = number // 10\n",
    "#         print(\"number :\", number)\n",
    "#         print('\\n')\n",
    "        \n",
    "    return result"
   ]
  },
  {
   "cell_type": "code",
   "execution_count": 56,
   "id": "be94c745",
   "metadata": {},
   "outputs": [
    {
     "name": "stdout",
     "output_type": "stream",
     "text": [
      "number :1111100111, base: 2\n",
      "\n",
      "result:  1 \n",
      "\n",
      "multiplier : 2\n",
      "number : 111110011\n",
      "\n",
      "\n",
      "result:  3 \n",
      "\n",
      "multiplier : 4\n",
      "number : 11111001\n",
      "\n",
      "\n",
      "result:  7 \n",
      "\n",
      "multiplier : 8\n",
      "number : 1111100\n",
      "\n",
      "\n",
      "result:  7 \n",
      "\n",
      "multiplier : 16\n",
      "number : 111110\n",
      "\n",
      "\n",
      "result:  7 \n",
      "\n",
      "multiplier : 32\n",
      "number : 11111\n",
      "\n",
      "\n",
      "result:  39 \n",
      "\n",
      "multiplier : 64\n",
      "number : 1111\n",
      "\n",
      "\n",
      "result:  103 \n",
      "\n",
      "multiplier : 128\n",
      "number : 111\n",
      "\n",
      "\n",
      "result:  231 \n",
      "\n",
      "multiplier : 256\n",
      "number : 11\n",
      "\n",
      "\n",
      "result:  487 \n",
      "\n",
      "multiplier : 512\n",
      "number : 1\n",
      "\n",
      "\n",
      "result:  999 \n",
      "\n",
      "multiplier : 1024\n",
      "number : 0\n",
      "\n",
      "\n"
     ]
    },
    {
     "data": {
      "text/plain": [
       "999"
      ]
     },
     "execution_count": 56,
     "metadata": {},
     "output_type": "execute_result"
    }
   ],
   "source": [
    "convert_to_decimal(1111100111 , 2)"
   ]
  },
  {
   "cell_type": "code",
   "execution_count": 3,
   "id": "c756444a",
   "metadata": {},
   "outputs": [
    {
     "data": {
      "text/plain": [
       "999"
      ]
     },
     "execution_count": 3,
     "metadata": {},
     "output_type": "execute_result"
    }
   ],
   "source": [
    "def convert2dec(num, base):\n",
    "    multiplier, result = 1, 0\n",
    "    while num > 0:\n",
    "        result += num % 10 * multiplier\n",
    "        multiplier *= base\n",
    "        num = num // 10\n",
    "    return result\n",
    "\n",
    "# if __main__ == \"__main__\":\n",
    "convert2dec(1111100111, 2)"
   ]
  },
  {
   "cell_type": "code",
   "execution_count": 10,
   "id": "a5910e4c",
   "metadata": {},
   "outputs": [],
   "source": [
    "def dec2other(num, base):\n",
    "    # TODO\n",
    "    multiplier, result = 1, 0\n",
    "    while num > 0:\n",
    "        result += num % base * multiplier\n",
    "        multiplier *= 10\n",
    "        num = num // base\n",
    "    return result\n",
    "\n",
    "def test_dec2other():\n",
    "    # TODO\n",
    "    num, base = 9, 2\n",
    "    assert(dec2other(num, base) == 1001)\n",
    "    \n",
    "if __name__ == \"__main__\":\n",
    "    test_dec2other()"
   ]
  },
  {
   "cell_type": "code",
   "execution_count": 14,
   "id": "da13279c",
   "metadata": {},
   "outputs": [
    {
     "name": "stdout",
     "output_type": "stream",
     "text": [
      "pass\n"
     ]
    }
   ],
   "source": [
    "def convert_base(num,base, ori):\n",
    "    multiplier, result = 1, 0\n",
    "    while num > 0:\n",
    "        result += num % base * multiplier\n",
    "        multiplier *= ori\n",
    "        num = num // base\n",
    "    return result\n",
    "\n",
    "def test_convert():\n",
    "    num, base, ori = 9, 2, 10\n",
    "    assert(convert_base(num, base, ori) == 1001)\n",
    "    num, base, ori = 1001, 10, 2\n",
    "    assert(convert_base(num, base, ori) == 9)\n",
    "    print(\"pass\")\n",
    "    \n",
    "if __name__ == \"__main__\":\n",
    "    test_convert()"
   ]
  },
  {
   "cell_type": "code",
   "execution_count": 20,
   "id": "25eb3836",
   "metadata": {},
   "outputs": [
    {
     "data": {
      "text/plain": [
       "'1111100111'"
      ]
     },
     "execution_count": 20,
     "metadata": {},
     "output_type": "execute_result"
    }
   ],
   "source": [
    "def dec2large(num, base):\n",
    "    strings = \"0123456789ABCDEFGHIJ\"\n",
    "    result = \"\"\n",
    "    while num > 0:\n",
    "        digit = num % base\n",
    "        result = strings[digit] + result\n",
    "        num = num // base\n",
    "    return result\n",
    "\n",
    "dec2large(999,2)"
   ]
  },
  {
   "cell_type": "code",
   "execution_count": null,
   "id": "ed0b8a10",
   "metadata": {
    "collapsed": true
   },
   "outputs": [],
   "source": []
  },
  {
   "cell_type": "code",
   "execution_count": 21,
   "id": "6dd1b6a7",
   "metadata": {},
   "outputs": [
    {
     "name": "stdout",
     "output_type": "stream",
     "text": [
      "1111100111\n",
      "3E7\n"
     ]
    }
   ],
   "source": [
    "def convert_any(number, base):\n",
    "    \"\"\" use recursive function.\"\"\"\n",
    "    convertString = \"0123456789ABCDEF\"\n",
    "    if number < base:\n",
    "        return convertString[number]\n",
    "    else:\n",
    "        return convert_any(number // base, base) + convertString[number % base]\n",
    "    \n",
    "print(convert_any(999,2))\n",
    "print(convert_any(999, 16))"
   ]
  },
  {
   "cell_type": "code",
   "execution_count": 22,
   "id": "0523c449",
   "metadata": {},
   "outputs": [
    {
     "data": {
      "text/plain": [
       "3"
      ]
     },
     "execution_count": 22,
     "metadata": {},
     "output_type": "execute_result"
    }
   ],
   "source": [
    "def gcd(a, b):\n",
    "    while(b != 0):\n",
    "        result = b\n",
    "        a, b = b, a % b\n",
    "    return result\n",
    "\n",
    "gcd(21,12)"
   ]
  },
  {
   "cell_type": "markdown",
   "id": "0dce428b",
   "metadata": {},
   "source": [
    "## random module\n",
    "\n",
    "실행할때마다 반환값 다르다"
   ]
  },
  {
   "cell_type": "code",
   "execution_count": 23,
   "id": "496d84d0",
   "metadata": {},
   "outputs": [
    {
     "name": "stdout",
     "output_type": "stream",
     "text": [
      "4\n",
      "3\n",
      "4\n",
      "[4, 1]\n",
      "[1, 3, 2]\n",
      "[2, 4, 3, 1]\n",
      "2\n",
      "0\n"
     ]
    }
   ],
   "source": [
    "import random\n",
    "\n",
    "def testing_random():\n",
    "    values = [1, 2, 3, 4]\n",
    "    print(random.choice(values))\n",
    "    print(random.choice(values))\n",
    "    print(random.choice(values))\n",
    "    print(random.sample(values, 2))\n",
    "    print(random.sample(values, 3))\n",
    "    \n",
    "    random.shuffle(values)\n",
    "    print(values)\n",
    "    \n",
    "    print(random.randint(0, 10))\n",
    "    print(random.randint(0, 10))\n",
    "    \n",
    "if __name__ == \"__main__\":\n",
    "    testing_random()"
   ]
  },
  {
   "cell_type": "code",
   "execution_count": 38,
   "id": "927cd9dd",
   "metadata": {},
   "outputs": [
    {
     "name": "stdout",
     "output_type": "stream",
     "text": [
      "3\n",
      "3\n",
      "3\n",
      "[2, 4]\n",
      "[1, 3, 4]\n",
      "[3, 2, 1, 4]\n",
      "10\n",
      "10\n"
     ]
    }
   ],
   "source": [
    "testing_random()"
   ]
  },
  {
   "cell_type": "markdown",
   "id": "2443aeeb",
   "metadata": {},
   "source": [
    "## fibonacci sequence\n",
    "\n",
    "recursive 함수의 시간복잡도는 $O(2^n)$, 반복문의 피보나치는 시간복잡도 $O(n)$이다. 수식사용하는 피보나치 구현의 시간복잡도는 $O(1)$이다. "
   ]
  },
  {
   "cell_type": "code",
   "execution_count": 39,
   "id": "284184ce",
   "metadata": {},
   "outputs": [],
   "source": [
    "import math\n",
    "\n",
    "def fib_iter(n):\n",
    "    if n < 2:\n",
    "        return n\n",
    "    a, b = 0, 1\n",
    "    for i in range(n):\n",
    "        a, b = b, a + b\n",
    "    return a"
   ]
  },
  {
   "cell_type": "code",
   "execution_count": 40,
   "id": "727dbd06",
   "metadata": {},
   "outputs": [],
   "source": [
    "def fib_rec(n):\n",
    "    if n < 2:\n",
    "        return n\n",
    "    return fib_rec(n - 1) + fib_rec(n - 2)"
   ]
  },
  {
   "cell_type": "code",
   "execution_count": 41,
   "id": "f803b043",
   "metadata": {},
   "outputs": [],
   "source": [
    "def fib_form(n):\n",
    "    \"\"\" n=70 까지 정확하다.\"\"\"\n",
    "    sq5 = math.sqrt(5)\n",
    "    phi = (1 + sq5) / 2\n",
    "    return int(math.floor(phi ** n / sq5))"
   ]
  },
  {
   "cell_type": "code",
   "execution_count": 42,
   "id": "a67f0cf7",
   "metadata": {},
   "outputs": [
    {
     "name": "stdout",
     "output_type": "stream",
     "text": [
      "55\n",
      "55\n",
      "55\n"
     ]
    }
   ],
   "source": [
    "print(fib_iter(10))\n",
    "print(fib_rec(10))\n",
    "print(fib_form(10))"
   ]
  },
  {
   "cell_type": "code",
   "execution_count": 44,
   "id": "2e3f83b2",
   "metadata": {},
   "outputs": [
    {
     "name": "stdout",
     "output_type": "stream",
     "text": [
      "1 1 2 3 5 8 13 21 34 55 "
     ]
    }
   ],
   "source": [
    "def fib_gen():\n",
    "    \"\"\" generator는 시퀀스 생성하는 객체이다. 순회할때마다 마지막 호출요소 기억 다음값 반환하는 구조, yield문 사용한다.\"\"\"\n",
    "    a, b = 0, 1\n",
    "    while True:\n",
    "        yield b\n",
    "        a, b = b, a + b\n",
    "        \n",
    "if __name__ == \"__main__\":\n",
    "    fg = fib_gen()\n",
    "    for _ in range(10):\n",
    "        print(next(fg), end= \" \")"
   ]
  },
  {
   "cell_type": "code",
   "execution_count": null,
   "id": "ad10911f",
   "metadata": {},
   "outputs": [],
   "source": []
  },
  {
   "cell_type": "code",
   "execution_count": 45,
   "id": "fc5d2284",
   "metadata": {},
   "outputs": [],
   "source": [
    "# find prime number"
   ]
  },
  {
   "cell_type": "code",
   "execution_count": 46,
   "id": "661c05d0",
   "metadata": {},
   "outputs": [],
   "source": [
    "import math\n",
    "import random"
   ]
  },
  {
   "cell_type": "code",
   "execution_count": 47,
   "id": "1fb99e73",
   "metadata": {},
   "outputs": [],
   "source": [
    "# brute force\n",
    "def prime(num):\n",
    "    a = abs(num)\n",
    "    if a < 4:\n",
    "        return True\n",
    "    for x in range(2, a):\n",
    "        if a % x == 0:\n",
    "            return False\n",
    "    return True"
   ]
  },
  {
   "cell_type": "code",
   "execution_count": 48,
   "id": "c5f1efc8",
   "metadata": {},
   "outputs": [],
   "source": [
    "def prime_sqrt(num):\n",
    "    a = abs(num)\n",
    "    if a < 4:\n",
    "        return True\n",
    "    for x in range(2, int(math.sqrt(a)) + 1):\n",
    "        if num % x == 0:\n",
    "            return False\n",
    "    return True"
   ]
  },
  {
   "cell_type": "code",
   "execution_count": 49,
   "id": "00e6ec2d",
   "metadata": {},
   "outputs": [],
   "source": [
    "def prime_fermat(num):\n",
    "    if num <= 102:\n",
    "        for a in range(2, num):\n",
    "            if pow(a, num-1, num) != 1:\n",
    "                return False\n",
    "        return True\n",
    "    else:\n",
    "        for i in range(100):\n",
    "            a = random.randint(2, num-1)\n",
    "            if pow(a, num-1, num) != 1:\n",
    "                return False\n",
    "        return True\n",
    "    "
   ]
  },
  {
   "cell_type": "code",
   "execution_count": 50,
   "id": "b432ac50",
   "metadata": {},
   "outputs": [],
   "source": [
    "def test_prime():\n",
    "    num1 = 17\n",
    "    num2 = 20\n",
    "    assert(prime(num1) is True)\n",
    "    assert(primt(num2) is False)\n",
    "    assert(prime_sqrt(num1) is True)\n",
    "    assert(prime_fermat(num2) is False)\n",
    "    \n",
    "if __name__ == \"main\":\n",
    "    test_prime()"
   ]
  },
  {
   "cell_type": "code",
   "execution_count": 51,
   "id": "2fe59b48",
   "metadata": {},
   "outputs": [],
   "source": [
    "def gen_prime(num=3):\n",
    "    \"\"\" random module사용하여 n비트 소수 생성한다.\"\"\"\n",
    "    while 1:\n",
    "        p = random.randint(pow(2, num-2), pow(2, num-1)-1)\n",
    "        p = 2*p+1\n",
    "        if prime_sqrt(p):\n",
    "            return p"
   ]
  },
  {
   "cell_type": "code",
   "execution_count": 65,
   "id": "2eccd86b",
   "metadata": {},
   "outputs": [
    {
     "data": {
      "text/plain": [
       "739"
      ]
     },
     "execution_count": 65,
     "metadata": {},
     "output_type": "execute_result"
    }
   ],
   "source": [
    "gen_prime(10)"
   ]
  },
  {
   "cell_type": "markdown",
   "id": "8896b457",
   "metadata": {},
   "source": [
    "## numpy "
   ]
  },
  {
   "cell_type": "code",
   "execution_count": 67,
   "id": "ed597040",
   "metadata": {},
   "outputs": [
    {
     "data": {
      "text/plain": [
       "3.4439938068389893"
      ]
     },
     "execution_count": 67,
     "metadata": {},
     "output_type": "execute_result"
    }
   ],
   "source": [
    "import numpy \n",
    "import time\n",
    "\n",
    "t1 = time.time()\n",
    "X = range(10000000)\n",
    "Y = range(10000000)\n",
    "Z = []\n",
    "for i in range(len(X)):\n",
    "    Z.append(X[i] + Y[i])\n",
    "time.time() - t1"
   ]
  },
  {
   "cell_type": "code",
   "execution_count": 71,
   "id": "f2614e8f",
   "metadata": {},
   "outputs": [
    {
     "data": {
      "text/plain": [
       "0.15736865997314453"
      ]
     },
     "execution_count": 71,
     "metadata": {},
     "output_type": "execute_result"
    }
   ],
   "source": [
    "t1 = time.time()\n",
    "X =  numpy.arange(10000000)\n",
    "Y = numpy.arange(10000000)\n",
    "Z = X + Y\n",
    "time.time() - t1"
   ]
  },
  {
   "cell_type": "code",
   "execution_count": 72,
   "id": "e2bcf306",
   "metadata": {},
   "outputs": [
    {
     "data": {
      "text/plain": [
       "array([0, 1, 2, 3, 4, 5, 6, 7, 8, 9])"
      ]
     },
     "execution_count": 72,
     "metadata": {},
     "output_type": "execute_result"
    }
   ],
   "source": [
    "numpy.arange(10)"
   ]
  },
  {
   "cell_type": "code",
   "execution_count": 74,
   "id": "bfd2a408",
   "metadata": {},
   "outputs": [
    {
     "data": {
      "text/plain": [
       "array([ 0,  2,  4,  6,  8, 10, 12, 14, 16, 18])"
      ]
     },
     "execution_count": 74,
     "metadata": {},
     "output_type": "execute_result"
    }
   ],
   "source": [
    "numpy.arange(10) + numpy.arange(10)"
   ]
  },
  {
   "cell_type": "code",
   "execution_count": null,
   "id": "9ebab1fe",
   "metadata": {},
   "outputs": [],
   "source": []
  }
 ],
 "metadata": {
  "kernelspec": {
   "display_name": "Python 3",
   "language": "python",
   "name": "python3"
  },
  "language_info": {
   "codemirror_mode": {
    "name": "ipython",
    "version": 3
   },
   "file_extension": ".py",
   "mimetype": "text/x-python",
   "name": "python",
   "nbconvert_exporter": "python",
   "pygments_lexer": "ipython3",
   "version": "3.7.1"
  }
 },
 "nbformat": 4,
 "nbformat_minor": 5
}
